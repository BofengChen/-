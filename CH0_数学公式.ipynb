{
 "cells": [
  {
   "cell_type": "markdown",
   "metadata": {},
   "source": [
    "## 数学公式"
   ]
  },
  {
   "cell_type": "markdown",
   "metadata": {},
   "source": [
    "### 点到超平面的距离公式\n",
    "\n",
    "一个向量 $\\mathbf{x_1}$ 到超平面 $ \\mathbf{w}^T \\mathbf{x} + b = 0$ 的距离公式为\n",
    "\n",
    "$$d = \\frac{| \\mathbf{w}^T \\mathbf{x_1} + b|}{|| \\mathbf{w} ||}$$\n",
    "\n",
    "其中 $\\mathbf{w} = (w_1, w_2, ... ,w_n)^T$ 是超平面的法向量，b是常量,$||\\bullet||$ 是 $L_2$ 范数。"
   ]
  },
  {
   "cell_type": "markdown",
   "metadata": {},
   "source": [
    "简单证明如下：\n",
    "\n",
    "假设 $\\mathbf{x}_1$ 到 超平面的投影向量为 $\\mathbf{x}_0$， 则有 $ \\mathbf{w}^T \\mathbf{x}_0 + b = 0$ 。\n",
    "\n",
    "因为 $\\mathbf{x}_1 - \\mathbf{x}_0$ 与法向量 $\\mathbf{w}^T$ 平行，则有\n",
    "\n",
    "$$|\\mathbf{w}^T (\\mathbf{x}_1 - \\mathbf{x}_0)| = ||\\mathbf{w}|| |(\\mathbf{x}_1 - \\mathbf{x}_0)| = ||\\mathbf{w}||\\bullet d$$\n",
    "\n",
    "另一方面，\n",
    "\n",
    "$$\\mathbf{w}^T (\\mathbf{x}_1 - \\mathbf{x}_0) = \\mathbf{w}^T \\mathbf{x}_1 - \\mathbf{w}^T\\mathbf{x}_0 = \\mathbf{w}^T \\mathbf{x}_1 + b$$\n",
    "\n",
    "则点到超平面的距离 d 为\n",
    "$$d = \\frac{| \\mathbf{w}^T \\mathbf{x_1} + b|}{|| \\mathbf{w} ||}$$"
   ]
  },
  {
   "cell_type": "code",
   "execution_count": null,
   "metadata": {},
   "outputs": [],
   "source": [
    ""
   ]
  },
  {
   "cell_type": "code",
   "execution_count": null,
   "metadata": {},
   "outputs": [],
   "source": [
    ""
   ]
  },
  {
   "cell_type": "markdown",
   "metadata": {},
   "source": []
  }
 ],
 "metadata": {
  "kernelspec": {
   "display_name": "Python 2",
   "language": "python",
   "name": "python2"
  },
  "language_info": {
   "codemirror_mode": {
    "name": "ipython",
    "version": 2.0
   },
   "file_extension": ".py",
   "mimetype": "text/x-python",
   "name": "python",
   "nbconvert_exporter": "python",
   "pygments_lexer": "ipython2",
   "version": "2.7.14"
  },
  "latex_envs": {
   "LaTeX_envs_menu_present": true,
   "autoclose": false,
   "autocomplete": true,
   "bibliofile": "biblio.bib",
   "cite_by": "apalike",
   "current_citInitial": 1.0,
   "eqLabelWithNumbers": true,
   "eqNumInitial": 1.0,
   "hotkeys": {
    "equation": "Ctrl-E",
    "itemize": "Ctrl-I"
   },
   "labels_anchors": false,
   "latex_user_defs": false,
   "report_style_numbering": false,
   "user_envs_cfg": false
  },
  "toc": {
   "base_numbering": 1.0,
   "nav_menu": {},
   "number_sections": true,
   "sideBar": true,
   "skip_h1_title": false,
   "title_cell": "Table of Contents",
   "title_sidebar": "Contents",
   "toc_cell": false,
   "toc_position": {
    "height": "473px",
    "left": "1207px",
    "top": "134px",
    "width": "302px"
   },
   "toc_section_display": true,
   "toc_window_display": true
  },
  "varInspector": {
   "cols": {
    "lenName": 16.0,
    "lenType": 16.0,
    "lenVar": 40.0
   },
   "kernels_config": {
    "python": {
     "delete_cmd_postfix": "",
     "delete_cmd_prefix": "del ",
     "library": "var_list.py",
     "varRefreshCmd": "print(var_dic_list())"
    },
    "r": {
     "delete_cmd_postfix": ") ",
     "delete_cmd_prefix": "rm(",
     "library": "var_list.r",
     "varRefreshCmd": "cat(var_dic_list()) "
    }
   },
   "types_to_exclude": [
    "module",
    "function",
    "builtin_function_or_method",
    "instance",
    "_Feature"
   ],
   "window_display": false
  }
 },
 "nbformat": 4,
 "nbformat_minor": 0
}