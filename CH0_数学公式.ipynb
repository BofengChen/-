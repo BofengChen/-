{
 "cells": [
  {
   "cell_type": "markdown",
   "metadata": {},
   "source": [
    "# 数学公式"
   ]
  },
  {
   "cell_type": "markdown",
   "metadata": {},
   "source": [
    "## 点到超平面的距离公式\n",
    "\n",
    "一个向量 $\\mathbf{x_1}$ 到超平面 $ \\mathbf{w}^T \\mathbf{x} + b = 0$ 的距离公式为\n",
    "\n",
    "$$d = \\frac{| \\mathbf{w}^T \\mathbf{x_1} + b|}{|| \\mathbf{w} ||}$$\n",
    "\n",
    "其中 $\\mathbf{w} = (w_1, w_2, ... ,w_n)^T$ 是超平面的法向量，b是常量,$||\\bullet||$ 是 $L_2$ 范数。"
   ]
  },
  {
   "cell_type": "markdown",
   "metadata": {},
   "source": [
    "简单证明如下：\n",
    "\n",
    "假设 $\\mathbf{x}_1$ 到 超平面的投影向量为 $\\mathbf{x}_0$， 则有 $ \\mathbf{w}^T \\mathbf{x}_0 + b = 0$ 。\n",
    "\n",
    "因为 $\\mathbf{x}_1 - \\mathbf{x}_0$ 与法向量 $\\mathbf{w}^T$ 平行，则有\n",
    "\n",
    "$$|\\mathbf{w}^T (\\mathbf{x}_1 - \\mathbf{x}_0)| = ||\\mathbf{w}|| |(\\mathbf{x}_1 - \\mathbf{x}_0)| = ||\\mathbf{w}||\\bullet d$$\n",
    "\n",
    "另一方面，\n",
    "\n",
    "$$\\mathbf{w}^T (\\mathbf{x}_1 - \\mathbf{x}_0) = \\mathbf{w}^T \\mathbf{x}_1 - \\mathbf{w}^T\\mathbf{x}_0 = \\mathbf{w}^T \\mathbf{x}_1 + b$$\n",
    "\n",
    "则点到超平面的距离 d 为\n",
    "$$d = \\frac{| \\mathbf{w}^T \\mathbf{x_1} + b|}{|| \\mathbf{w} ||}$$"
   ]
  },
  {
   "cell_type": "markdown",
   "metadata": {},
   "source": [
    "## Frobenius 范数"
   ]
  },
  {
   "cell_type": "markdown",
   "metadata": {},
   "source": [
    "对于矩阵 $\\mathbf{A}$,我们定义其 Frobenius 范数为\n",
    "\n",
    "$$||\\mathbf{A}||_F = \\sqrt{\\sum_{i,j}A_{i,j}^2} = \\sqrt{Tr(\\mathbf{A}\\mathbf{A}^T)}$$\n",
    "\n",
    "类似于向量的 $L^2$ 范数。"
   ]
  },
  {
   "cell_type": "markdown",
   "metadata": {},
   "source": [
    "## [Hoeffding Inequality](https://blog.csdn.net/liubai01/article/details/79947975)"
   ]
  },
  {
   "cell_type": "markdown",
   "metadata": {},
   "source": [
    "## 线性相关和生成子空间"
   ]
  },
  {
   "cell_type": "markdown",
   "metadata": {},
   "source": [
    "下面我们讨论如下方程\n",
    "\n",
    "$$\\mathbf{A}\\mathbf{x}=\\mathbf{b}$$\n",
    "\n",
    "的解存在性和唯一性。其中 $\\mathbf{A}\\in R^{m\\times n}$是一个已知矩阵，$\\mathbf{b}\\in R^{m}$ 是一个已知向量，$\\mathbf{x}\\in R^{n}$ 是一个我们要求解的未知向量。"
   ]
  },
  {
   "cell_type": "markdown",
   "metadata": {},
   "source": [
    "为了分析方程有多少个解，我们可以将 $\\mathbf{A}$ 的列向量看作从**原点**（元素都是零的向量）出发的不同方向，确定有多少种方法可以到达向量 $\\mathbf{b}$。在这个观点下，向量 $\\mathbf{x}$ 的每个元素表示我们应该沿着这些方向走多远，即$x_i$ 表示我们需要沿着第 i 个向量的方向走多远：\n",
    "\n",
    "$$\\mathbf{A}\\mathbf{x}=\\sum_i x_i\\mathbf{A}_{:,i}$$\n",
    "\n",
    "称这种操作为**线性组合**。"
   ]
  },
  {
   "cell_type": "markdown",
   "metadata": {},
   "source": [
    "一组向量的**生成子空间**是原始向量线性组合之后所能抵达的点的集合。"
   ]
  },
  {
   "cell_type": "markdown",
   "metadata": {},
   "source": [
    "***\n",
    "**存在解的充分必要条件**"
   ]
  },
  {
   "cell_type": "markdown",
   "metadata": {},
   "source": [
    "确定 $\\mathbf{A}\\mathbf{x}=\\mathbf{b}$ 是否有解，相当于确定向量 $\\mathbf{b}$ 是否在 $\\mathbf{A}$ 列向量的生成子空间中。这个特殊的生成子空间被称为 $\\mathbf{A}$ 的 **列空间(column space)**或者 $\\mathbf{A}$ 的 **值域(range)**。"
   ]
  },
  {
   "cell_type": "markdown",
   "metadata": {},
   "source": [
    "为了使方程 $\\mathbf{A}\\mathbf{x}=\\mathbf{b}$ 对任意向量 $\\mathbf{b}$ 都存在解，我们要求 $\\mathbf{A}$ 的列空间构成整个 $R^m$，这样才能确保任意的 $\\mathbf{b}$ 包含在 $\\mathbf{A}$ 的列空间里，也就是说任意的 $\\mathbf{b}$ 是可达的。由$\\mathbf{A}\\in R^{m\\times n}$ 可知， $\\mathbf{A}$的列空间构成整个 $R^m$的要求等价于说 $\\mathbf{A}$ 至少应该有 m 列，也就是说 $n \\geq m$。\n",
    "\n",
    "**不等式 $n \\geq m$ 只是解存在的必要不充分条件**，因为 $n \\geq m$ 并不能保证可以构成 $R^m$ 空间，换言之，不能保证 $\\mathbf{A}$ 的列空间存在 m 个 **线性无关** 的向量。\n",
    "\n",
    "**所以存在解的充分条件就是：** 矩阵 $\\mathbf{A}$ 必须包含至少一组 m 个线性无关的向量。"
   ]
  },
  {
   "cell_type": "markdown",
   "metadata": {},
   "source": [
    "***\n",
    "**唯一解的条件**"
   ]
  },
  {
   "cell_type": "markdown",
   "metadata": {},
   "source": [
    "如果要保证对于每一个 $\\mathbf{b}$ 至多有一个解，我们需要确保矩阵至多有 m 个列向量。\n",
    "\n",
    "综上所述，**意味着这个矩阵必须是一个**方阵**，即 $m=n$；并且所有列向量都是线性无关的。**\n",
    "\n",
    "一个列向量线性相关的方阵被称为**奇异的(singular)**。\n",
    "\n",
    "一个矩阵 $\\mathbf{A}$ 不是方阵或者是一个奇异的方阵，该方程仍然有解，但是我们不能使用矩阵逆去求解。"
   ]
  },
  {
   "cell_type": "markdown",
   "metadata": {},
   "source": [
    "## 奇异值分解"
   ]
  },
  {
   "cell_type": "markdown",
   "metadata": {},
   "source": [
    "对于方阵，利用特征值和特征向量可以刻画矩阵的结构，在长方形矩阵情形这些方法不适用，推广的特征值即奇异值分解理论改善了这个状况。利用奇异值和奇异向量不仅可以刻画矩阵本身，还可以进一步刻画线性代数方程组解的结构，是构造性地研究线性代数问题的有力工具。"
   ]
  },
  {
   "cell_type": "markdown",
   "metadata": {},
   "source": [
    "***\n",
    "**定理** 设 $\\mathbf{A}\\in R^{m\\times n}$, 则存在正交矩阵 $\\mathbf{U} = (\\mathbf{u}_1, \\cdots,\\mathbf{u}_m)\\in R^{m\\times m},\\mathbf{V} = (\\mathbf{v}_1, \\cdots,\\mathbf{v}_n)\\in R^{n\\times n}$ 使\n",
    "\n",
    "$$\\mathbf{U}^T \\mathbf{A}\\mathbf{V}=\n",
    "\\left(                 \n",
    "\\begin{array}{cc}   \n",
    "\\mathbf{\\sum} & \\mathbf{O}\\\\  \n",
    "\\mathbf{O} & \\mathbf{O}\\\\  \n",
    "\\end{array} \n",
    "\\right)$$\n",
    "\n",
    "其中 $\\mathbf{\\sum} = diag(\\sigma_1, \\cdots, \\sigma_r)$，并且 $\\sigma_1\\geq \\sigma_2\\geq\\cdots\\geq \\sigma_r >0$."
   ]
  },
  {
   "cell_type": "markdown",
   "metadata": {},
   "source": [
    "<img src='figure/SVD.jpg' width='500' height='400' align='left'>"
   ]
  },
  {
   "cell_type": "markdown",
   "metadata": {},
   "source": [
    "***\n",
    "我们记\n",
    "\n",
    "$$\\mathbf{D} = \\left(                 \n",
    "\\begin{array}{cc}   \n",
    "\\mathbf{\\sum} & \\mathbf{O}\\\\  \n",
    "\\mathbf{O} & \\mathbf{O}\\\\  \n",
    "\\end{array} \n",
    "\\right)$$\n",
    "\n",
    "则有 $\\mathbf{U}^T \\mathbf{A}\\mathbf{V}= \\mathbf{D}$, 由 $\\mathbf{U},\\mathbf{V}$ 的正交性质可知\n",
    "\n",
    "$$\\mathbf{A}= \\mathbf{U}\\mathbf{D}\\mathbf{V}^T$$"
   ]
  },
  {
   "cell_type": "markdown",
   "metadata": {},
   "source": [
    "***\n",
    "**推论：** $\\mathbf{V}$ 的列向量是矩阵 $\\mathbf{A}^T\\mathbf{A}$ 的特征向量；$\\mathbf{U}$ 的列向量是矩阵 $\\mathbf{A}\\mathbf{A}^T$ 的特征向量，即\n",
    "\n",
    "$$\\begin{split}\n",
    "\\mathbf{V}^T\\mathbf{A}^T\\mathbf{A}\\mathbf{V} = diag(\\sigma_1^2,\\cdots,\\sigma_r^2,0,\\cdots,0),\\\\\n",
    "\\mathbf{U}^T\\mathbf{A}\\mathbf{A}^T\\mathbf{U} = diag(\\sigma_1^2,\\cdots,\\sigma_r^2,0,\\cdots,0),\n",
    "\\end{split}$$"
   ]
  },
  {
   "cell_type": "markdown",
   "metadata": {},
   "source": [
    "我们简单证明关于 $\\mathbf{V}$ 的结论，关于 $\\mathbf{U}$ 类似。\n",
    "\n",
    "由 $\\mathbf{U}^T \\mathbf{A}\\mathbf{V}= \\mathbf{D}$ 可知\n",
    "\n",
    "$$\\begin{split}\n",
    "diag(\\sigma_1^2,\\cdots,\\sigma_r^2,0,\\cdots,0) &= \\mathbf{D}^T\\mathbf{D}\\\\\n",
    "&=(\\mathbf{U}^T \\mathbf{A}\\mathbf{V})^T(\\mathbf{U}^T \\mathbf{A}\\mathbf{V})\\\\\n",
    "&=\\mathbf{V}^T\\mathbf{A}^T\\mathbf{U}\\mathbf{U}^T \\mathbf{A}\\mathbf{V}\\\\\n",
    "&=\\mathbf{V}^T\\mathbf{A}^T\\mathbf{A}\\mathbf{V}\n",
    "\\end{split}$$"
   ]
  },
  {
   "cell_type": "markdown",
   "metadata": {},
   "source": [
    "***\n",
    "综上所述：\n",
    "* 对角矩阵 $\\mathbf{D}$ 对角线上的元素称为矩阵 $\\mathbf{A}$ 的**奇异值**；\n",
    "* 矩阵 $\\mathbf{U}$ 的列向量称为**左奇异向量**，其列向量为矩阵 $\\mathbf{A}^T\\mathbf{A}$ 的特征向量；\n",
    "* 矩阵 $\\mathbf{V}$ 的列向量称为**右奇异向量**，其列向量为矩阵 $\\mathbf{A}\\mathbf{A}^T$ 的特征向量；\n",
    "* $\\mathbf{A}$ 的非零奇异值为矩阵 $\\mathbf{A}^T\\mathbf{A}$，同时也是 $\\mathbf{A}\\mathbf{A}^T$ 的特征值的平方根。"
   ]
  },
  {
   "cell_type": "markdown",
   "metadata": {},
   "source": [
    "[奇异值分解(SVD) --- 线性变换几何意义](http://blog.sciencenet.cn/home.php?mod=space&uid=696950&do=blog&quickforward=1&id=699380)\n",
    "\n",
    "[奇异值分解(SVD) --- 几何意义](http://blog.sciencenet.cn/blog-696950-699432.html)"
   ]
  }
 ],
 "metadata": {
  "kernelspec": {
   "display_name": "Python 2",
   "language": "python",
   "name": "python2"
  },
  "language_info": {
   "codemirror_mode": {
    "name": "ipython",
    "version": 2
   },
   "file_extension": ".py",
   "mimetype": "text/x-python",
   "name": "python",
   "nbconvert_exporter": "python",
   "pygments_lexer": "ipython2",
   "version": "2.7.14"
  },
  "latex_envs": {
   "LaTeX_envs_menu_present": true,
   "autoclose": false,
   "autocomplete": true,
   "bibliofile": "biblio.bib",
   "cite_by": "apalike",
   "current_citInitial": 1,
   "eqLabelWithNumbers": true,
   "eqNumInitial": 1,
   "hotkeys": {
    "equation": "Ctrl-E",
    "itemize": "Ctrl-I"
   },
   "labels_anchors": false,
   "latex_user_defs": false,
   "report_style_numbering": false,
   "user_envs_cfg": false
  },
  "toc": {
   "base_numbering": 1,
   "nav_menu": {},
   "number_sections": true,
   "sideBar": true,
   "skip_h1_title": false,
   "title_cell": "Table of Contents",
   "title_sidebar": "Contents",
   "toc_cell": false,
   "toc_position": {
    "height": "473px",
    "left": "114px",
    "top": "141px",
    "width": "224px"
   },
   "toc_section_display": true,
   "toc_window_display": true
  },
  "varInspector": {
   "cols": {
    "lenName": 16,
    "lenType": 16,
    "lenVar": 40
   },
   "kernels_config": {
    "python": {
     "delete_cmd_postfix": "",
     "delete_cmd_prefix": "del ",
     "library": "var_list.py",
     "varRefreshCmd": "print(var_dic_list())"
    },
    "r": {
     "delete_cmd_postfix": ") ",
     "delete_cmd_prefix": "rm(",
     "library": "var_list.r",
     "varRefreshCmd": "cat(var_dic_list()) "
    }
   },
   "types_to_exclude": [
    "module",
    "function",
    "builtin_function_or_method",
    "instance",
    "_Feature"
   ],
   "window_display": false
  }
 },
 "nbformat": 4,
 "nbformat_minor": 1
}
