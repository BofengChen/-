{
 "cells": [
  {
   "cell_type": "markdown",
   "metadata": {},
   "source": [
    "# 聚类"
   ]
  },
  {
   "cell_type": "markdown",
   "metadata": {},
   "source": [
    "聚类任务的定义：聚类试图将数据集的无标记样本划分为若干个通常不想交的子集，每个子集被称为一个**“簇”**。簇对应的概念语义需要使用者来把握命名。\n",
    "\n",
    "假定样本集 $D = \\{\\mathbf{x}_1,\\mathbf{x}_2,...,\\mathbf{x}_m\\}$ 包含m个无标记样本，每个样本 $\\mathbf{x}_i = (x_{i1}; x_{i2};...;x_{in})$ 是一个n维特征向量，聚类将D划分为 k 个不相交的簇 $\\{C_l | l = 1,2,...,k\\}$,其中\n",
    "\n",
    "$$ C_m\\cap C_n|_{m\\neq n} = \\emptyset \\; and \\; D = \\cup_{l=1}^k C_l$$\n",
    "\n",
    "我们用 $\\lambda_j \\in \\{1,2,...,k\\}$ 表示样本 $\\mathbf{x}_j$ 的“簇标记”，即 $\\mathbf{x}_j \\in C_{\\lambda_j}$。于是聚类的结果可以用包含m个元素的簇标记向量 $\\mathbf{\\lambda} = (\\mathbf{\\lambda}_1,\\mathbf{\\lambda}_2,...,\\mathbf{\\lambda}_m)$ 表示。"
   ]
  },
  {
   "cell_type": "markdown",
   "metadata": {},
   "source": [
    "## 性能度量"
   ]
  },
  {
   "cell_type": "markdown",
   "metadata": {},
   "source": [
    "聚类性能度量也称为聚类“有效性指标”，如图字面意思，作用在于：\n",
    "\n",
    "1. 通过某种性能度量来评估聚类结果的好坏；\n",
    "2. 可以将性能度量作为聚类过程的优化目标。\n",
    "\n",
    "直观上，我们希望聚类结果可以达到：**同一簇的样本尽可能相似，不同簇的样本尽可能不同。** 也就是说，**聚类结果的“簇内相似度”高，“簇间相似度”低。**"
   ]
  },
  {
   "cell_type": "markdown",
   "metadata": {},
   "source": [
    "聚类性能度量分为两类：\n",
    "\n",
    "* 将聚类结果与某个“参考模型”进行比较，称为“外部指标”；\n",
    "* 之间考察聚类结果，称为“内部指标”。"
   ]
  },
  {
   "cell_type": "markdown",
   "metadata": {},
   "source": [
    "### 外部指标"
   ]
  },
  {
   "cell_type": "markdown",
   "metadata": {},
   "source": [
    "对数据集 D，假定通过聚类给出的簇划分为 $S = \\{ C_1, C_2, ...,C_k\\}$，参考外部给出的簇划分为 $S^\\ast = \\{ C_1^\\ast, C_2^\\ast, ...,C_k^\\ast\\}$。相应，令 $\\lambda,\\lambda^\\ast$ 分别表示与 $S, S^\\ast$ 对应的簇标记向量。\n",
    "\n",
    "我们将样本两两配对考虑，定义\n",
    "\n",
    "$$\n",
    "a = |SS|, \\quad SS = \\{(\\mathbf{x}_i,\\mathbf{x}_j)| \\lambda_i = \\lambda_j, \\lambda_i^\\ast = \\lambda_j^\\ast, i < j\\}\\\\\n",
    "b = |SD|, \\quad SD = \\{(\\mathbf{x}_i,\\mathbf{x}_j)| \\lambda_i = \\lambda_j, \\lambda_i^\\ast \\neq \\lambda_j^\\ast, i < j\\}\\\\\n",
    "a = |DS|, \\quad DS = \\{(\\mathbf{x}_i,\\mathbf{x}_j)| \\lambda_i \\neq \\lambda_j, \\lambda_i^\\ast = \\lambda_j^\\ast, i < j\\}\\\\\n",
    "a = |DD|, \\quad DD = \\{(\\mathbf{x}_i,\\mathbf{x}_j)| \\lambda_i \\neq \\lambda_j, \\lambda_i^\\ast \\neq \\lambda_j^\\ast, i < j\\}\n",
    "$$"
   ]
  },
  {
   "cell_type": "markdown",
   "metadata": {},
   "source": [
    "上述的四个分类基于 **是否在 S 中属于同一个簇 以及 是否在 $S^\\ast$ 中属于同一个簇。** 因为每个样本对要满足 $i < j$，所以有 $a + b + c + d = m(m-1)/2$ 成立。\n",
    "\n",
    "基于上述的定义我们可以导出以下常用的聚类性能度量的外部指标：\n",
    "\n",
    "* Jaccard 系数：\n",
    "\n",
    "$$JC = \\frac{a}{a+b+c}$$\n",
    "\n",
    "* FM指数：\n",
    "\n",
    "$$FMI = \\sqrt{\\frac{a}{a+b}\\cdot \\frac{a}{a+c}}$$\n",
    "\n",
    "* Rand指数：\n",
    "\n",
    "$$RI = \\frac{2(a+d)}{m(m-1)}$$\n",
    "\n",
    "显然，上述性能度量的结果值均在 $[0,1]$ 之间，值越大越好。"
   ]
  },
  {
   "cell_type": "markdown",
   "metadata": {},
   "source": [
    "### 内部指标"
   ]
  },
  {
   "cell_type": "markdown",
   "metadata": {},
   "source": [
    "对于 $S = \\{ C_1, C_2, ...,C_k\\}$，我们首先定义\n",
    "\n",
    "$$\\begin{split}\n",
    "avg(C) &= \\frac{2}{|C|(|C|-1)}\\sum_{1 \\leq i<j\\leq |C|}dist(\\mathbf{x}_i, \\mathbf{x}_j)\\\\\n",
    "diam(C) &= \\max_{1 \\leq i<j\\leq |C|}dist(\\mathbf{x}_i, \\mathbf{x}_j) \\\\\n",
    "d_{\\min}( C_i, C_j) &= \\min_{\\mathbf{x}_i \\in C_i, \\mathbf{x}_j\\in C_j} dist(\\mathbf{x}_i, \\mathbf{x}_j)\\\\\n",
    "d_{cen}( C_i, C_j) &= dist(\\mathbf{\\mu}_i, \\mathbf{\\mu}_j)\n",
    "\\end{split}$$\n",
    "\n",
    "其中 $dist(\\cdot,\\cdot)$ 用于计算两个样本之间的距离，度量方法我们下一节再介绍，$\\mu$ 表示簇 C 的中心点 $\\mu = \\frac{1}{|C|}\\sum_{1 \\leq i\\leq |C|}\\mathbf{x}_i$。"
   ]
  },
  {
   "cell_type": "markdown",
   "metadata": {},
   "source": [
    "上面四个公式的含义分别是：\n",
    "\n",
    "* $avg(C)$ 对应于簇内样本之间的平均距离；\n",
    "* $diam(C)$ 对应于簇内样本间的最远距离；\n",
    "* $d_{\\min}( C_i, C_j)$ 对应于簇之间的最近样本之间的距离；\n",
    "* $d_{cen}( C_i, C_j)$ 对应于簇之间的中心点之间的距离。"
   ]
  },
  {
   "cell_type": "markdown",
   "metadata": {},
   "source": [
    "基于上述定义我们可以导出以下常用的聚类性能度量的内部指标：\n",
    "\n",
    "* DB 系数：\n",
    "\n",
    "$$DBI = \\frac{1}{k}\\sum_{i=1}^k \\max_{j\\neq i}\\left( \\frac{avg(C_i)+ avg(C_j)}{d_{cen}( C_i, C_j)}\\right)$$\n",
    "\n",
    "* Dunn 指数：\n",
    "\n",
    "$$DI = \\min_{1\\leq i\\leq k}\\left( \\min_{j\\neq i}\\left( \\frac{d_{\\min}( C_i, C_j)}{\\max_{1\\leq l\\leq k}diam(C_l)}\\right)\\right)$$\n",
    "\n",
    "\n",
    "显然，DBI 的值越小越好； DI 值越大越好。"
   ]
  },
  {
   "cell_type": "markdown",
   "metadata": {},
   "source": [
    "## 距离度量"
   ]
  },
  {
   "cell_type": "markdown",
   "metadata": {},
   "source": [
    "对函数 $dist(\\cdot,\\cdot)$ ，若它是一个“距离度量”，则需满足一些基本性质：\n",
    "\n",
    "$$\\begin{split}\n",
    "&非负性： dist(\\mathbf{x}_i, \\mathbf{x}_j)\\geq 0\\\\\n",
    "&同一性： dist(\\mathbf{x}_i, \\mathbf{x}_j) = 0 \\;当且仅当 \\; \\mathbf{x}_i = \\mathbf{x}_j\\\\\n",
    "&对称性： dist(\\mathbf{x}_i, \\mathbf{x}_j) = dist(\\mathbf{x}_j, \\mathbf{x}_i)\\\\\n",
    "&三角不等式： dist(\\mathbf{x}_i, \\mathbf{x}_j) \\leq dist(\\mathbf{x}_i, \\mathbf{x}_k) + dist(\\mathbf{x}_k, \\mathbf{x}_j)\n",
    "\\end{split}$$"
   ]
  },
  {
   "cell_type": "markdown",
   "metadata": {},
   "source": [
    "给定样本 $\\mathbf{x}_i, \\mathbf{x}_j$，定义两者之间的[Minkowski distance](https://en.wikipedia.org/wiki/Minkowski_distance)，也就是数学中的 P 范数。当 P 取值为 2 时，为欧式距离；取值为 1 时，为曼哈顿(街区)距离。\n",
    "\n",
    "**以上的定义只适合于定义了“序”关系的属性。**"
   ]
  },
  {
   "cell_type": "markdown",
   "metadata": {},
   "source": [
    "对于无序的属性，我们采用 VDM 距离来定义 属性 u 上两个离散值 a 和 b 的距离：\n",
    "\n",
    "$$ VDM_p(a,b) = \\sum_{i=1}^k \\left|\\frac{m_{u,a,i}}{m_{u,a}}- \\frac{m_{u,b,i}}{m_{u,b}}\\right|^2$$\n",
    "\n",
    "其中 $m_{u,a}$ 表示在属性 u 上取值为 a 的样本数， $m_{u,a,i}$ 表示在第 i 个样本簇中在属性 u 上取值为 a 的样本数，k 为样本簇数。"
   ]
  },
  {
   "cell_type": "markdown",
   "metadata": {},
   "source": [
    "假设有 $n_c$ 个有序属性、$n - n_c$ 个无序属性，不失一般性，令有序属性排列在无序属性之前，则\n",
    "\n",
    "$$ MinkovDM_p(\\mathbf{x}_i, \\mathbf{x}_j) = \\left( \\sum_{u=1}^{n_c}|x_{iu} - x_{ju}|^p + \\sum_{u=n_c +1}^{n}VDM_p(x_{iu}, x_{ju})\\right)^{\\frac{1}{p}}$$"
   ]
  },
  {
   "cell_type": "markdown",
   "metadata": {},
   "source": [
    "我们还可以定义“加权距离”，以加权 Minkowski distance 为例：\n",
    "\n",
    "$$dist_{wmk}(\\mathbf{x}_i, \\mathbf{x}_j) = \\left(\\sum_{u=1}^n w_u|x_{iu} - x_{ju}|^p\\right)^{\\frac{1}{p}}$$\n",
    "\n",
    "其中 $w_u \\geq 0 (i=1,2,...,n)$ 表征不同属性的重要性，通常 $\\sum_{i=1}^n w_i=1$。"
   ]
  },
  {
   "cell_type": "markdown",
   "metadata": {},
   "source": [
    "需要注意的是，我们通常是基于某种形式的距离度量来定义“相似度度量”，距离越大，相似度越小。然而，**用于相似度度量的距离未必一定要满足距离度量的所有基本性质，尤其是三角不等式。**我们称不满足三角不等式的距离为“非度量距离”。\n",
    "\n",
    "在现实任务中，有必要基于数据样本来确定合适的距离计算公式。"
   ]
  },
  {
   "cell_type": "markdown",
   "metadata": {},
   "source": [
    "## 原型聚类"
   ]
  },
  {
   "cell_type": "markdown",
   "metadata": {},
   "source": [
    "原型聚类也称为“基于原型的聚类”，此类算法假设聚类结构能通过一组原型（原型是指样本空间中具有代表性的点）刻画，在现实聚类任务中很常用。\n",
    "\n",
    "通常情况下，先对原型进行初始化，然后对原型进行迭代更新求解，采用不同的原型表示，不同的求解方式，产生不同的算法。"
   ]
  },
  {
   "cell_type": "markdown",
   "metadata": {},
   "source": [
    "### k-means聚类"
   ]
  },
  {
   "cell_type": "markdown",
   "metadata": {},
   "source": [
    "#### 基本思想\n",
    "\n",
    "对于无标记样本集 $D = \\{\\mathbf{x}_1, \\mathbf{x}_2,...,\\mathbf{x}_m\\}$，k-means 算法针对聚类所得簇划分 $S = \\{ C_1, C_2, ...,C_k\\}$ 最小化平方误差\n",
    "\n",
    "$$E = \\sum_{i=1}^k\\sum_{\\mathbf{x}\\in C_i} ||\\mathbf{x} - \\mathbf{\\mu}_i||_2^2$$\n",
    "\n",
    "其中 $\\mu_i = \\frac{1}{C_i}\\sum_{\\mathbf{x}\\in C_i} \\mathbf{x}$ 是簇 $C_i$ 的均值向量。\n",
    "\n",
    "E 就是我们定义 k -means 性能度量的内部指标。直观看，E值越小则簇内样本相似度越高。"
   ]
  },
  {
   "cell_type": "markdown",
   "metadata": {},
   "source": [
    "k-means 算法包含两个步骤：\n",
    "\n",
    "    1. 给聚类中心分配点。计算所有训练样例，把每个训练样例分配到距离其最近的聚类中心所在的类别里；\n",
    "    2. 移动聚类中心。新的聚类中心移动到这个聚类所有的点的平均值处。\n",
    "    3. 重复步骤2，直到聚类中心不再移动为止。"
   ]
  },
  {
   "cell_type": "markdown",
   "metadata": {},
   "source": [
    "直接求解上式，即找到最优的簇划分是一个NP问题。因此，k-means 算法通过贪心策略通过迭代来近似求解。算法流程如下："
   ]
  },
  {
   "cell_type": "markdown",
   "metadata": {},
   "source": [
    "<img src=\"figure/k-means.png\"  width='500' hegiht='500' align='left'>"
   ]
  },
  {
   "cell_type": "markdown",
   "metadata": {},
   "source": [
    "注：k-means 算法仅在凸形簇结构上效果比较好。"
   ]
  },
  {
   "cell_type": "markdown",
   "metadata": {},
   "source": [
    "#### 成本函数\n",
    "\n",
    "除了上面流程里写的所有均值向量均为更新这个标准为，还可以采用如下的成本函数来作为算法迭代停止的条件：$$J = \\frac{1}{m}\\sum_{i=1}^{m}||x^{(i)}-u_{c^{(i)}}||^2$$\n",
    "其中，$c^{(i)}$ 是训练样例 $x^{(i)}$ 分配的聚类序号；$u_{c^{(i)}}$ 是 $x^{(i)}$ 所属聚类的中心点。\n",
    "\n",
    "成本函数的物理意义是，训练样例到其所属聚类中心的距离平均值。"
   ]
  },
  {
   "cell_type": "markdown",
   "metadata": {},
   "source": [
    "#### 如何选择 k "
   ]
  },
  {
   "cell_type": "markdown",
   "metadata": {},
   "source": [
    "1. 聚类个数和业务紧密关联，通过对业务的判断来框定范围；\n",
    "2. 以聚类个数为横坐标，成本函数作为纵坐标，画出成本函数随 k 的趋势曲线。大体趋势是随着 k 值越大，成本越来越低。如果存在一个拐点，在拐点之前成本下降较快，拐点之后下降比较慢，很可能拐点所在的 k 值就是要寻求的最优解。"
   ]
  },
  {
   "cell_type": "markdown",
   "metadata": {},
   "source": [
    "#### [sklearn.cluster.KMeans](https://scikit-learn.org/stable/modules/generated/sklearn.cluster.KMeans.html)\n",
    "\n",
    "* n_init 参数：因为最终的聚类结果受到随机初始化的聚类中心点影响，为了避免陷入局部最优解，解决办法之一就是进行n次随机初始化的操作，从中选择成本最小的那个函数。n_init 这个参数的功能即在于此。\n",
    "\n",
    "[参数解释](https://blog.csdn.net/qq_34104548/article/details/79336584)\n",
    "\n",
    "其中关于三角不等式的解释公式有误"
   ]
  },
  {
   "cell_type": "markdown",
   "metadata": {},
   "source": [
    "#### 小案例"
   ]
  },
  {
   "cell_type": "markdown",
   "metadata": {},
   "source": [
    "先生成一组包含两个特征的200个样本："
   ]
  },
  {
   "cell_type": "code",
   "execution_count": 3,
   "metadata": {
    "ExecuteTime": {
     "end_time": "2019-01-22T07:59:33.545000Z",
     "start_time": "2019-01-22T07:59:33.026000Z"
    }
   },
   "outputs": [],
   "source": [
    "%matplotlib inline\n",
    "import matplotlib.pyplot as plt\n",
    "import numpy as np"
   ]
  },
  {
   "cell_type": "code",
   "execution_count": 5,
   "metadata": {
    "ExecuteTime": {
     "end_time": "2019-01-22T07:59:42.174000Z",
     "start_time": "2019-01-22T07:59:42.036000Z"
    }
   },
   "outputs": [
    {
     "data": {
      "image/png": "[encoded data removed]",
      "text/plain": [
       "<matplotlib.figure.Figure at 0x18b5b940>"
      ]
     },
     "metadata": {},
     "output_type": "display_data"
    }
   ],
   "source": [
    "from sklearn.datasets import make_blobs\n",
    "\n",
    "X, y = make_blobs(n_samples=200,\n",
    "                  n_features=2,\n",
    "                  centers=4,\n",
    "                  cluster_std=1,\n",
    "                  center_box=(-10.0, 10.0),\n",
    "                  shuffle=True,\n",
    "                  random_state=1);\n",
    "\n",
    "plt.figure(figsize=(5,3), dpi=144)\n",
    "plt.xticks(())\n",
    "plt.yticks(())\n",
    "plt.scatter(X[:, 0], X[:, 1], s=20, marker='o');"
   ]
  },
  {
   "cell_type": "markdown",
   "metadata": {},
   "source": [
    "接着使用KMeans模型来拟合。设置类别数量为3，并计算拟合后的成本："
   ]
  },
  {
   "cell_type": "code",
   "execution_count": 6,
   "metadata": {
    "ExecuteTime": {
     "end_time": "2019-01-22T08:00:56.868000Z",
     "start_time": "2019-01-22T08:00:56.388000Z"
    }
   },
   "outputs": [
    {
     "name": "stdout",
     "output_type": "stream",
     "text": [
      "kmean: k=3, cost=-668\n"
     ]
    }
   ],
   "source": [
    "from sklearn.cluster import KMeans\n",
    "\n",
    "n_clusters = 3\n",
    "kmean = KMeans(n_clusters=n_clusters)\n",
    "kmean.fit(X);\n",
    "print(\"kmean: k={}, cost={}\".format(n_clusters, int(kmean.score(X))))"
   ]
  },
  {
   "cell_type": "markdown",
   "metadata": {},
   "source": [
    "`Kmeans.score()` 函数计算 k-means 算法拟合后的成本，用负数表示，**绝对值越大，说明成本越高。** 在 sklearn 中，计算成本的方法略有不同，它是计算训练样例到期所属聚类中心点的距离的总和。"
   ]
  },
  {
   "cell_type": "markdown",
   "metadata": {},
   "source": [
    "我们可以把分类后的样本及其所属的聚类中心画出来，直观观察拟合结果。"
   ]
  },
  {
   "cell_type": "code",
   "execution_count": 8,
   "metadata": {
    "ExecuteTime": {
     "end_time": "2019-01-22T08:04:15.944000Z",
     "start_time": "2019-01-22T08:04:15.779000Z"
    }
   },
   "outputs": [
    {
     "data": {
      "image/png": "[encoded data removed]",
      "text/plain": [
       "<matplotlib.figure.Figure at 0x1b9e9b38>"
      ]
     },
     "metadata": {},
     "output_type": "display_data"
    }
   ],
   "source": [
    "labels = kmean.labels_\n",
    "centers = kmean.cluster_centers_\n",
    "markers = ['o', '^', '*']\n",
    "colors = ['r', 'b', 'y']\n",
    "\n",
    "plt.figure(figsize=(5,3), dpi=144)\n",
    "plt.xticks(())\n",
    "plt.yticks(())\n",
    "\n",
    "# 画样本\n",
    "for c in range(n_clusters):\n",
    "    cluster = X[labels == c]\n",
    "    plt.scatter(cluster[:, 0], cluster[:, 1], \n",
    "                marker=markers[c], s=20, c=colors[c])\n",
    "# 画出中心点\n",
    "plt.scatter(centers[:, 0], centers[:, 1],\n",
    "            marker='o', c=\"white\", alpha=0.9, s=300)\n",
    "for i, c in enumerate(centers):\n",
    "    plt.scatter(c[0], c[1], marker='$%d$' % i, s=50, c=colors[i])"
   ]
  },
  {
   "cell_type": "markdown",
   "metadata": {},
   "source": [
    "分别选择 `k=2,3,4` 这3种不同的聚类个数，观察下 k-means 的拟合结果及其成本值。"
   ]
  },
  {
   "cell_type": "code",
   "execution_count": 9,
   "metadata": {
    "ExecuteTime": {
     "end_time": "2019-01-22T08:06:02.986000Z",
     "start_time": "2019-01-22T08:06:02.962000Z"
    }
   },
   "outputs": [],
   "source": [
    "def fit_plot_kmean_model(n_clusters, X):\n",
    "    plt.xticks(())\n",
    "    plt.yticks(())\n",
    "\n",
    "    # 使用 k-均值算法进行拟合\n",
    "    kmean = KMeans(n_clusters=n_clusters)\n",
    "    kmean.fit_predict(X)\n",
    "\n",
    "    labels = kmean.labels_\n",
    "    centers = kmean.cluster_centers_\n",
    "    markers = ['o', '^', '*', 's']\n",
    "    colors = ['r', 'b', 'y', 'k']\n",
    "\n",
    "    # 计算成本\n",
    "    score = kmean.score(X)\n",
    "    plt.title(\"k={}, score={}\".format(n_clusters, (int)(score)))\n",
    "\n",
    "    # 画样本\n",
    "    for c in range(n_clusters):\n",
    "        cluster = X[labels == c]\n",
    "        plt.scatter(cluster[:, 0], cluster[:, 1], \n",
    "                    marker=markers[c], s=20, c=colors[c])\n",
    "    # 画出中心点\n",
    "    plt.scatter(centers[:, 0], centers[:, 1],\n",
    "                marker='o', c=\"white\", alpha=0.9, s=300)\n",
    "    for i, c in enumerate(centers):\n",
    "        plt.scatter(c[0], c[1], marker='$%d$' % i, s=50, c=colors[i])"
   ]
  },
  {
   "cell_type": "code",
   "execution_count": 10,
   "metadata": {
    "ExecuteTime": {
     "end_time": "2019-01-22T08:06:11.942000Z",
     "start_time": "2019-01-22T08:06:11.462000Z"
    }
   },
   "outputs": [
    {
     "data": {
      "image/png": "[encoded data removed]",
      "text/plain": [
       "<matplotlib.figure.Figure at 0x1bc1ab00>"
      ]
     },
     "metadata": {},
     "output_type": "display_data"
    }
   ],
   "source": [
    "from sklearn.cluster import KMeans\n",
    "\n",
    "n_clusters = [2, 3, 4]\n",
    "\n",
    "plt.figure(figsize=(10, 3), dpi=144)\n",
    "for i, c in enumerate(n_clusters):\n",
    "    plt.subplot(1, 3, i + 1)\n",
    "    fit_plot_kmean_model(c, X)"
   ]
  },
  {
   "cell_type": "markdown",
   "metadata": {},
   "source": [
    "### 学习向量量化(learning Vector  Quantization，简称LVQ)"
   ]
  },
  {
   "cell_type": "markdown",
   "metadata": {},
   "source": [
    "与 k-means 算法类似， LVQ 也是试图找到一组原型向量来刻画聚类结构（聚类结构某种意义上是按照某种度量对数据进行空间上的分布的划分）。**LVQ 是针对带标记的数据样本，利用样本的监督信息来辅助学习进行聚类。**"
   ]
  },
  {
   "cell_type": "markdown",
   "metadata": {},
   "source": [
    "给定样本集 $D = \\{ (\\mathbf{x}_1, y_1), (\\mathbf{x}_2, y_2), ... , (\\mathbf{x}_m, y_m)\\},$ 其中 $ \\mathbf{x}_j = (x_{j1}, x_{j2}, ...,x_{jn}), y_i\\in Y$ 是样本 $\\mathbf{x}_j$ 的类别标记。LVQ 的目标是学习一组向量 $\\{\\mathbf{p}_1, \\mathbf{p}_2,...,\\mathbf{p}_q\\}$，每个原型向量代表一个聚类簇，簇标记为$t_i\\in Y$。"
   ]
  },
  {
   "cell_type": "markdown",
   "metadata": {},
   "source": [
    "**LVQ 算法流程图：**\n",
    "***\n",
    "* **输入：**\n",
    "\n",
    "    * 样本集 $D = \\{ (\\mathbf{x}_1, y_1), (\\mathbf{x}_2, y_2), ... , (\\mathbf{x}_m, y_m)\\}$;\n",
    "    * 原型向量个数q，相应的类别标记$\\{t_1, t_2, ..., t_q\\}$，个数和相应标记根据实际应用场景来设定；\n",
    "    * 学习率 $\\eta\\in (0,1)$\n",
    "    \n",
    "* **过程：**\n",
    "\n",
    "    1. 初始化一组原型向量 $\\{\\mathbf{p}_1, \\mathbf{p}_2,...,\\mathbf{p}_q\\}$，可以随机指定，后期进行优化；\n",
    "    2. **repeat**   (是遍历所有样本么？)\n",
    "    3. 算法随机选取一个带标记的训练样本$(\\mathbf{x}_j, y_j)$;\n",
    "    4. 计算样本到所有原型向量的距离：$d_{ji} = ||\\mathbf{x}_j-\\mathbf{p}_i||_2,\\;(1\\geq i \\geq q)$;\n",
    "    5. 找出和 $\\mathbf{x}_j$ 距离最近的原型向量 $\\mathbf{p}^\\ast_i, \\; i^\\ast = \\arg\\min_{1\\geq i \\geq q}d_{ji}$;\n",
    "    6. 通过判定样本标记 $y_j, t_i^\\ast$ 是否一致来更新权重：\n",
    "        $$\\mathbf{p}^\\prime = \\mathbf{p}^\\ast_i + \\eta\\cdot(\\mathbf{x}_j-\\mathbf{p}_i)\\cdot (y_j=t_i^\\ast)^{bool}$$\n",
    "    7. 将原型向量 $\\mathbf{p}^\\ast_i$ 更新为 $\\mathbf{p}^\\prime$;\n",
    "    8. **until满足条件**  (如达到最大迭代次数)\n",
    "    \n",
    "* **输出：** 原型向量 $\\{\\mathbf{p}_1, \\mathbf{p}_2,...,\\mathbf{p}_q\\}$     \n",
    "\n",
    "注：\n",
    "1. $(\\cdot)^{bool}$ 表示布尔函数，真取值为1；否则为-1。\n",
    "2. 从算法流程上看，该算法可以进行并行计算。\n",
    "***"
   ]
  },
  {
   "cell_type": "markdown",
   "metadata": {},
   "source": [
    "更新后的原型向量 $\\mathbf{p}^\\prime$ 和 $\\mathbf{x}_j$ 的距离是：\n",
    "\n",
    "$$\\begin{split}\n",
    "||\\mathbf{p}^\\prime - \\mathbf{x}_j||_2 &= ||\\mathbf{p}^\\ast_i + \\eta\\cdot(\\mathbf{x}_j-\\mathbf{p}_i)\\cdot (y_j=t_i^\\ast)^{bool} -  \\mathbf{x}_j||_2\\\\\n",
    "\\\\\n",
    "&= ||\\mathbf{p}^\\ast_i  - \\mathbf{x}_j||_2\\cdot |\\eta\\cdot (y_j=t_i^\\ast)^{bool} - 1 |\\\\\n",
    "\\\\\n",
    "&=\\left\\{\n",
    "\\begin{aligned}\n",
    "(1-\\eta)||\\mathbf{p}^\\ast_i  - \\mathbf{x}_j||_2 & \\quad y_j=t_i^\\ast\\\\\n",
    "(1+\\eta)||\\mathbf{p}^\\ast_i  - \\mathbf{x}_j||_2 & \\quad y_j\\neq t_i^\\ast\n",
    "\\end{aligned}\n",
    "\\right. \n",
    "\\end{split}$$"
   ]
  },
  {
   "cell_type": "markdown",
   "metadata": {},
   "source": [
    "由学习率 $\\eta\\in (0,1)$，从公式结果可以看出，当样本和 $\\mathbf{p}^\\ast_i$ 的标记相同时，原型向量 $\\mathbf{p}^\\ast_i$更靠近 $\\mathbf{x}_j$； $\\mathbf{x}_j$。"
   ]
  },
  {
   "cell_type": "markdown",
   "metadata": {},
   "source": [
    "在学习得到一组原型向量 $\\{\\mathbf{p}_1, \\mathbf{p}_2,...,\\mathbf{p}_q\\}$ 后，即可实现对样本空间$\\mathbf{X}$的簇划分。**对任意的样本 $\\mathbf{x}$，它将被划入与其距离最近的原型向量所代表的簇中。**\n",
    "\n",
    "换言之，每个原型向量 $\\mathbf{p}_i$ 定义了一个与之相关的区域 $R_i$：\n",
    "\n",
    "$$R_i = \\{ \\mathbf{x}\\in X\\;| \\; ||\\mathbf{x}-\\mathbf{p}_i||_2 \\leq ||\\mathbf{x}-\\mathbf{p}_i^\\prime ||_2,\\; i^\\prime \\neq i\\}$$\n",
    "\n",
    "由此便形成了对样本空间 X 的划分 $\\{R_1, R_2, ...,R_q\\}$，该划分通常称为“Voronoi 剖分”。"
   ]
  },
  {
   "cell_type": "markdown",
   "metadata": {},
   "source": [
    "**注：如果将 $R_i$ 中样本全部用原型向量$\\mathbf{p}_i$ 表示，则可实现数据的“有损压缩”，这称为“向量量化”；LVQ由此而得名。**"
   ]
  },
  {
   "cell_type": "markdown",
   "metadata": {},
   "source": [
    "### 高斯混合聚类"
   ]
  },
  {
   "cell_type": "markdown",
   "metadata": {},
   "source": [
    "请参考周志华《机器学习》关于该模型的介绍。"
   ]
  },
  {
   "cell_type": "markdown",
   "metadata": {},
   "source": [
    "## 密度聚类"
   ]
  },
  {
   "cell_type": "markdown",
   "metadata": {},
   "source": [
    "密度聚类也称为“基于密度的聚类”(density-based clustering)，此类算法假设聚类结构可以通过样本分布的紧密程度确定。一般情况下，密度聚类算法从**样本密度**的角度来考察样本之间的可连接性，基于**可连接样本不断扩展聚类簇**以获得最终聚类结果。"
   ]
  },
  {
   "cell_type": "markdown",
   "metadata": {},
   "source": [
    "### DBSCAN"
   ]
  },
  {
   "cell_type": "markdown",
   "metadata": {},
   "source": [
    "#### 基本思想"
   ]
  },
  {
   "cell_type": "markdown",
   "metadata": {},
   "source": [
    "DBSCAN (Density-Based Spatial Clustering of Applications with Noise)是一种密度聚类算法，基于一组“邻域”参数$(\\epsilon, MinPts)$ 来刻画样本分布的紧密程度。给定无标记样本集 $D = \\{\\mathbf{x}_1, \\mathbf{x}_2,...,\\mathbf{x}_m\\}$，我们定义下面几个概念：\n",
    "***\n",
    "* **$\\epsilon$-邻域**：对于 $\\mathbf{x}_j \\in D$ 而言，$\\epsilon$-邻域定义为：\n",
    "$$N_{\\epsilon}(\\mathbf{x}_j) = \\{\\mathbf{x}_i \\in D \\; | \\; dist(\\mathbf{x}_i, \\mathbf{x}_j)\\leq \\epsilon\\}$$注：其中的距离默认情形下为欧式距离；\n",
    "\n",
    "\n",
    "* **核心对象(core object)**：我们称$\\mathbf{x}_j$ 是一个核心对象，如果若 $\\mathbf{x}_j$ 的 $\\epsilon$-邻域至少包含 **MinPts** 个元素（样本），即\n",
    "\n",
    "$$|N_{\\epsilon}(\\mathbf{x}_j)| \\geq MinPts$$\n",
    "\n",
    "\n",
    "* **密度直达(directly density-reachable)**: 我们称 $\\mathbf{x}_j $ 由 $\\mathbf{x}_i$ 密度直达，如果$\\mathbf{x}_j $ 在 $\\mathbf{x}_i$ 邻域里且 $\\mathbf{x}_i$ 是核心对象，即\n",
    "\n",
    "$$\\mathbf{x}_j \\in N_{\\epsilon}(\\mathbf{x}_i) \\quad and \\quad |N_{\\epsilon}(\\mathbf{x}_i)| \\geq MinPts$$\n",
    "\n",
    "* **密度可达(density-reachable)**: 我们称 $\\mathbf{x}_j $ 由 $\\mathbf{x}_i$ 密度可达，如果存在样本序列 $\\{\\mathbf{p}_1, \\mathbf{p}_2,...,\\mathbf{p}_n\\}$，其中 $\\mathbf{p}_1 = \\mathbf{x}_i, \\mathbf{p}_n = \\mathbf{x}_j$ 且 $\\mathbf{p}_{i+1}$ 由 \n",
    "$\\mathbf{p}_i$ 密度直达；\n",
    "\n",
    "\n",
    "* **密度相连(density-connected):** 我们称 $\\mathbf{x}_j $ 和 $\\mathbf{x}_i$ 密度相连，如果存在 $\\mathbf{x}_k$ 使得 $\\mathbf{x}_i $ 和 $\\mathbf{x}_j$ 均由 $\\mathbf{x}_k$ 密度可达。\n",
    "***"
   ]
  },
  {
   "cell_type": "markdown",
   "metadata": {},
   "source": [
    "对三个概念的解释以及图示：\n",
    "\n",
    "|定义|数学性质|概念理解|\n",
    "| ---| ---|---|\n",
    "|密度直达|通常不满足对称性|以 MinPts 为临界值，重新定义了邻域中心与邻域元素的关系|\n",
    "|密度可达|满足直递性，但不满足对称性|在 密度直达 的意义下，元素之间具有直递性|\n",
    "|密度相连|满足对称性|在密度可达的意义下，属于同一个集合，具有对称的连通性|"
   ]
  },
  {
   "cell_type": "markdown",
   "metadata": {},
   "source": [
    "<img src='figure/DBSCAN.jpg'>"
   ]
  },
  {
   "cell_type": "markdown",
   "metadata": {},
   "source": [
    "基于以上概念，DBSCAN 将“簇”定义为：**由密度可达关系导出的最大的密度相连样本集合。** 形式化说，给定邻域参数 $(\\epsilon, MinPts)$，簇 $C \\subseteq D$ 是满足以下性质的非空样本子集：\n",
    "\n",
    "* 连接性(connectivity)： $\\mathbf{x}_i\\in C,\\mathbf{x}_j\\in C \\Rightarrow \\mathbf{x}_i \\; 与 \\;\\mathbf{x}_j \\;密度相连$；\n",
    "\n",
    "\n",
    "* 最大性(maximality)： $\\mathbf{x}_i\\in C, \\mathbf{x}_j \\;由 \\;\\mathbf{x}_i \\; 密度可达 \\;\\Rightarrow \\mathbf{x}_j\\in C$；\n",
    "\n",
    "若 $\\mathbf{x}$ 为核心对象，则由 $\\mathbf{x}$ 密度可达的所有样本组成的集合 \n",
    "\n",
    "$$X = \\{\\mathbf{x}^\\prime \\in D \\;|\\; \\mathbf{x}^\\prime \\; 由 \\; \\mathbf{x} \\; 密度可达\\}$$\n",
    "\n",
    "即为满足连接性和最大性的簇。"
   ]
  },
  {
   "cell_type": "markdown",
   "metadata": {},
   "source": [
    "DBSCAN 算法任选数据集中的一个核心对象为“种子”，由此出发确定相应的聚类簇。算法如下图所示:\n",
    "1. 第 1-7 行，算法根据给定的输入参数 $(\\epsilon, MinPts)$ 找出所有核心对象；\n",
    "\n",
    "2. 第 10-24 行，以任一核心对象为出发点，找出由密度可达的样本生成的聚类簇；\n",
    "\n",
    "3. 直到所有核心对象均被访问过为止。"
   ]
  },
  {
   "cell_type": "markdown",
   "metadata": {},
   "source": [
    "<img src='figure/DBSCAN-1.png' width='400' height='300' align='left'>"
   ]
  },
  {
   "cell_type": "markdown",
   "metadata": {},
   "source": [
    "#### [sklearn.cluster.DBSCAN](https://scikit-learn.org/stable/modules/generated/sklearn.cluster.DBSCAN.html)"
   ]
  },
  {
   "cell_type": "markdown",
   "metadata": {},
   "source": [
    "### OPTICS"
   ]
  },
  {
   "cell_type": "markdown",
   "metadata": {},
   "source": [
    "论文参考：[OPTICS: Ordering Points To Identify the Clustering Structure](http://www.dbs.ifi.lmu.de/Publikationen/Papers/OPTICS.pdf)"
   ]
  },
  {
   "cell_type": "markdown",
   "metadata": {},
   "source": [
    "论文伪代码的实现如下："
   ]
  },
  {
   "cell_type": "code",
   "execution_count": 3,
   "metadata": {
    "ExecuteTime": {
     "end_time": "2019-05-05T11:39:13.860556Z",
     "start_time": "2019-05-05T11:39:13.813554Z"
    }
   },
   "outputs": [],
   "source": [
    "# -*- coding: utf-8 -*-\n",
    "import bisect\n",
    "\n",
    "processed = True\n",
    "unprocessed = False\n",
    "NOISE = -1\n",
    "\n",
    "import math\n",
    "x_pi = math.pi * 3000.0 / 180.0\n",
    "AA = 6378245.0\n",
    "EE = 0.00669342162296594323\n",
    "r = 6371\n",
    "\n",
    "\n",
    "\n",
    "def distance_of_two_points(point_1, point_2):  \n",
    "    '''\n",
    "    计算两个经纬度点之间的距离\n",
    "    type(point) = list\n",
    "    point = [lat, lon]\n",
    "\n",
    "    '''\n",
    "    x_pi = math.pi * 3000.0 / 180.0\n",
    "    AA = 6378245.0\n",
    "    EE = 0.00669342162296594323\n",
    "    r = 6371\n",
    "\n",
    "    lat1, lon1, lat2, lon2 = map(math.radians, point_1+point_2)\n",
    "\n",
    "    diff_lon = lon2 - lon1\n",
    "    diff_lat = lat2 - lat1\n",
    "    a = math.sin(diff_lat / 2) ** 2 + math.cos(lat1) * math.cos(lat2) * math.sin(diff_lon / 2) ** 2\n",
    "    c = 2 * math.asin(math.sqrt(a))\n",
    "    return c * r * 1000\n",
    "\n",
    "\n",
    "# cluster common part:give the neighbor\n",
    "def neighbor(object_i, set_of_objects, eps, MinPts):\n",
    "\n",
    "    neighbor_points_dict = {}\n",
    "    points_num = set_of_objects.shape[1]\n",
    "\n",
    "    a = set_of_objects[:, object_i]\n",
    "    point_1 = [a[0], a[1]]\n",
    "\n",
    "    for i in range(points_num):\n",
    "        if i != object_i:\n",
    "            b = set_of_objects[:, i]\n",
    "            point_2 = [b[0], b[1]]\n",
    "            dist = distance_of_two_points(point_1, point_2)\n",
    "            if dist < eps:\n",
    "                neighbor_points_dict[i] = dist\n",
    "\n",
    "    dist_list = neighbor_points_dict.values()\n",
    "    if len(dist_list) < MinPts:\n",
    "        core_dist = 'undefined'\n",
    "    else:\n",
    "        core_dist = sorted(dist_list)[MinPts-1]\n",
    "\n",
    "    return neighbor_points_dict.keys(), core_dist\n",
    "\n",
    "\n",
    "# ------------- OPTICS -------------------\n",
    "def seeds_update(object_i, set_of_objects, neighbor_object_i, processed_list, r_dist, c_dist_i, order_seeds):\n",
    "\n",
    "    a = set_of_objects[:, object_i]\n",
    "    point_1 = [a[0], a[1]]\n",
    "\n",
    "    for object_k in neighbor_object_i:\n",
    "        if processed_list[object_k] == unprocessed:\n",
    "\n",
    "            b = set_of_objects[:, object_k]\n",
    "            point_2 = [b[0], b[1]]\n",
    "            new_r_dist = max(c_dist_i, distance_of_two_points(point_1, point_2))\n",
    "\n",
    "            if r_dist[object_k] == 'undefined':\n",
    "                r_dist[object_k] = new_r_dist\n",
    "                bisect.insort_right(order_seeds, (new_r_dist, object_k))\n",
    "            else:  # object already in order_seeds\n",
    "                if new_r_dist < r_dist[object_k]:\n",
    "\n",
    "                    old_index = bisect.bisect_left(order_seeds, (r_dist[object_k], object_k))\n",
    "                    order_seeds.remove(order_seeds[old_index])\n",
    "\n",
    "                    r_dist[object_k] = new_r_dist\n",
    "                    bisect.insort_right(order_seeds, (new_r_dist, object_k))\n",
    "    return order_seeds\n",
    "\n",
    "\n",
    "def expand_cluster_order(set_of_objects, object_i, eps, MinPts, ordered_list, c_dist, r_dist, processed_list, neighbor_dict):\n",
    "\n",
    "    order_seeds = []\n",
    "    neighbor_dict[object_i], c_dist[object_i] = neighbor(object_i, set_of_objects, eps, MinPts)\n",
    "    processed_list[object_i] = processed\n",
    "    ordered_list.append(object_i)\n",
    "\n",
    "    if c_dist[object_i] != 'undefined':\n",
    "\n",
    "        order_seeds = seeds_update(object_i, set_of_objects, neighbor_dict[object_i], processed_list, r_dist, c_dist[object_i], order_seeds)\n",
    "\n",
    "        while len(order_seeds) != 0:\n",
    "\n",
    "            current_object = order_seeds[0][1]\n",
    "            order_seeds.remove(order_seeds[0])\n",
    "\n",
    "            neighbor_dict[current_object], c_dist[current_object] = neighbor(current_object, set_of_objects, eps, MinPts)\n",
    "            processed_list[current_object] = processed\n",
    "            ordered_list.append(current_object)\n",
    "\n",
    "            if c_dist[current_object] != 'undefined':\n",
    "\n",
    "                order_seeds = seeds_update(current_object, set_of_objects, neighbor_dict[current_object], processed_list, r_dist, c_dist[current_object], order_seeds)\n",
    "\n",
    "    return ordered_list, c_dist, r_dist\n",
    "\n",
    "\n",
    "def cluster_extracting(ordered_list, r_dist, c_dist, eps_small):\n",
    "    size = len(ordered_list)\n",
    "    cluster_mark = [NOISE] * size\n",
    "    cluster_id = NOISE\n",
    "    k = 0\n",
    "    for i in xrange(size):\n",
    "        object_cur = ordered_list[i]\n",
    "\n",
    "        if r_dist[object_cur] > eps_small or r_dist[object_cur] == 'undefined':\n",
    "            if c_dist[object_cur] <= eps_small:\n",
    "                k += 1\n",
    "                cluster_id = k\n",
    "                cluster_mark[object_cur] = cluster_id\n",
    "            else:\n",
    "                cluster_mark[object_cur] = NOISE\n",
    "        else:\n",
    "            cluster_mark[object_cur] = cluster_id\n",
    "\n",
    "    return cluster_mark\n",
    "\n",
    "\n",
    "def optics_paper(set_of_objects, optics_para):\n",
    "\n",
    "    eps = optics_para[0]\n",
    "    eps_small = optics_para[1]\n",
    "    MinPts = optics_para[2]\n",
    "\n",
    "    size = set_of_objects.shape[1]\n",
    "\n",
    "    # initialize\n",
    "    ordered_list = []\n",
    "    processed_list = [unprocessed] * size\n",
    "    r_dist = ['undefined'] * size\n",
    "    c_dist = ['undefined'] * size\n",
    "    neighbor_dict = {}\n",
    "\n",
    "    for object_i in xrange(size):\n",
    "        if processed_list[object_i] == unprocessed:\n",
    "\n",
    "            ordered_list, c_dist, r_dist = expand_cluster_order(set_of_objects, object_i, eps, MinPts, ordered_list, c_dist, r_dist, processed_list, neighbor_dict)\n",
    "\n",
    "    return cluster_extracting(ordered_list, r_dist, c_dist, eps_small)"
   ]
  },
  {
   "cell_type": "markdown",
   "metadata": {},
   "source": [
    "### DENCLUE"
   ]
  },
  {
   "cell_type": "markdown",
   "metadata": {},
   "source": [
    "论文参考：[An efficient approach to clustering in large multimedia databases with noise](https://pdfs.semanticscholar.org/e090/2669a15b62c80abac73ad75afbd3a241256a.pdf)"
   ]
  },
  {
   "cell_type": "markdown",
   "metadata": {},
   "source": [
    "## 层次聚类"
   ]
  },
  {
   "cell_type": "markdown",
   "metadata": {},
   "source": [
    "层次聚类(hierarchical clustering)试图在不同层次对数据集进行划分，从而形成**树形的聚类结构。** 数据集的划分可采用“自底而上”的聚合策略，也可以采用“自顶而下”的分拆策略。"
   ]
  },
  {
   "cell_type": "markdown",
   "metadata": {},
   "source": [
    "### AGNES"
   ]
  },
  {
   "cell_type": "markdown",
   "metadata": {},
   "source": [
    "#### 基本思想"
   ]
  },
  {
   "cell_type": "markdown",
   "metadata": {},
   "source": [
    "AGNES 是一种采用自底而上聚合策略的层次聚类算法：\n",
    "1. 先将数据集里的每一个样本看做一个初始聚类簇；\n",
    "2. 在算法运行的每一步中找出距离最近的两个聚类簇进行合并；\n",
    "3. 重复步骤2直到达到预设的聚类簇个数。"
   ]
  },
  {
   "cell_type": "markdown",
   "metadata": {},
   "source": [
    "上述的关键是计算聚类簇之间的距离策略。簇本身是一个集合，所以只需采用关于集合的某种度量距离方式即可。给定聚类簇$C_i, C_j$,可以通过下面三种方式来计算距离：\n",
    "\n",
    "$$\\begin{split}\n",
    "最小距离： &\\quad d_{\\min}(C_i, C_j) = \\min_{\\mathbf{x}\\in C_i, \\mathbf{z}\\in C_j} dist(\\mathbf{x}, \\mathbf{z})\\\\\n",
    "最大距离： &\\quad d_{\\max}(C_i, C_j) = \\max_{\\mathbf{x}\\in C_i, \\mathbf{z}\\in C_j} dist(\\mathbf{x}, \\mathbf{z})\\\\\n",
    "平均距离： &\\quad d_{avg}(C_i, C_j) = \\frac{1}{|C_i||C_j|}\\sum_{\\mathbf{x}\\in C_i}\\sum_{\\mathbf{z}\\in C_j}dist(\\mathbf{x}, \\mathbf{z})\\\\\n",
    "\\end{split}$$\n",
    "\n",
    "注：一般情况下，集合间的距离计算常用[hausdorff distance](https://zh.wikipedia.org/wiki/%E8%B1%AA%E6%96%AF%E5%A4%9A%E5%A4%AB%E8%B7%9D%E7%A6%BB)。"
   ]
  },
  {
   "cell_type": "markdown",
   "metadata": {},
   "source": [
    "**当聚类距离由 $d_{\\min}$、$d_{\\max}$、$d_{avg}$ 计算时，AGNES算法被相应地称为“单链接”(single-linkage)、“全链接”(complete-linkage)、“均链接”(average-linkage)算法。**"
   ]
  },
  {
   "cell_type": "markdown",
   "metadata": {},
   "source": [
    "AGNES 算法描述如下：\n",
    "\n",
    "1. 1-9行算法先对仅含一个样本的初始聚类簇和相应的距离矩阵进行初始化；\n",
    "2. 11-23行，AGNES 不断合并距离最近的聚类簇，并对合并得到的聚类簇的距离矩阵进行更新；\n",
    "3. 不断重复步骤2直到达到预设的聚类簇数。"
   ]
  },
  {
   "cell_type": "markdown",
   "metadata": {},
   "source": [
    "<img src='figure/AGNES.jpg' width='300' height='300' align='left'>\n",
    "<img src='figure/AGNES-1.png' width='400' height='300' align='right'>"
   ]
  },
  {
   "cell_type": "markdown",
   "metadata": {},
   "source": [
    "#### [sklearn.cluster.AgglomerativeClustering](https://scikit-learn.org/stable/modules/generated/sklearn.cluster.AgglomerativeClustering.html)"
   ]
  },
  {
   "cell_type": "markdown",
   "metadata": {},
   "source": [
    "### DIANA"
   ]
  },
  {
   "cell_type": "markdown",
   "metadata": {},
   "source": [
    "采用自顶向下的分拆策略。\n",
    "\n",
    "书籍参考：Finding groups in data: An introduction to cluster analysis"
   ]
  },
  {
   "cell_type": "markdown",
   "metadata": {
    "ExecuteTime": {
     "end_time": "2019-01-21T11:51:37.822000Z",
     "start_time": "2019-01-21T11:51:37.809000Z"
    }
   },
   "source": [
    "### BIRCH"
   ]
  },
  {
   "cell_type": "markdown",
   "metadata": {},
   "source": [
    "BIRCH 论文参考：[BIRCH: An Efficient Data Clustering Method for very Large Databases](https://www.cs.sfu.ca/CourseCentral/459/han/papers/zhang96.pdf)\n",
    "\n",
    "[sklearn.cluster.Birch](https://scikit-learn.org/stable/modules/generated/sklearn.cluster.Birch.html#sklearn.cluster.Birch)"
   ]
  },
  {
   "cell_type": "markdown",
   "metadata": {},
   "source": [
    "### ROCK"
   ]
  },
  {
   "cell_type": "markdown",
   "metadata": {},
   "source": [
    "ROCK 论文参考：[ROCK: A Robust Clustering Algorithm for Categorical Attributes](http://theory.stanford.edu/~sudipto/mypapers/categorical.pdf)"
   ]
  }
 ],
 "metadata": {
  "hide_input": false,
  "kernelspec": {
   "display_name": "Python 3",
   "language": "python",
   "name": "python3"
  },
  "toc": {
   "base_numbering": 1,
   "nav_menu": {},
   "number_sections": true,
   "sideBar": true,
   "skip_h1_title": false,
   "title_cell": "Table of Contents",
   "title_sidebar": "Contents",
   "toc_cell": false,
   "toc_position": {
    "height": "calc(100% - 180px)",
    "left": "10px",
    "top": "150px",
    "width": "407.188px"
   },
   "toc_section_display": true,
   "toc_window_display": true
  },
  "varInspector": {
   "cols": {
    "lenName": 16,
    "lenType": 16,
    "lenVar": 40
   },
   "kernels_config": {
    "python": {
     "delete_cmd_postfix": "",
     "delete_cmd_prefix": "del ",
     "library": "var_list.py",
     "varRefreshCmd": "print(var_dic_list())"
    },
    "r": {
     "delete_cmd_postfix": ") ",
     "delete_cmd_prefix": "rm(",
     "library": "var_list.r",
     "varRefreshCmd": "cat(var_dic_list()) "
    }
   },
   "types_to_exclude": [
    "module",
    "function",
    "builtin_function_or_method",
    "instance",
    "_Feature"
   ],
   "window_display": false
  }
 },
 "nbformat": 4,
 "nbformat_minor": 2
}
